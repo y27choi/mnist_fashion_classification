{
 "cells": [
  {
   "cell_type": "code",
   "execution_count": 1,
   "metadata": {},
   "outputs": [
    {
     "name": "stderr",
     "output_type": "stream",
     "text": [
      "Using TensorFlow backend.\n"
     ]
    }
   ],
   "source": [
    "# IMPORT MODULES\n",
    "import numpy as np\n",
    "import tensorflow as tf\n",
    "import keras\n",
    "import random\n",
    "import matplotlib.pyplot as plt\n",
    "from tensorflow.contrib.layers import flatten\n",
    "from tensorflow.keras.datasets import fashion_mnist\n",
    "from keras.layers import Convolution2D, Input, Activation, Flatten, Dense\n",
    "from keras.optimizers import Adam\n",
    "\n",
    "# Network Diagram\n",
    "import pydot\n",
    "from IPython.display import SVG\n",
    "from keras.utils.vis_utils import model_to_dot\n",
    "from keras.utils import plot_model\n",
    "%matplotlib inline"
   ]
  },
  {
   "cell_type": "code",
   "execution_count": 13,
   "metadata": {},
   "outputs": [
    {
     "name": "stdout",
     "output_type": "stream",
     "text": [
      "X train shape: (60000, 28, 28)\n",
      "Y train shape: (60000,)\n",
      "X test shape: (10000, 28, 28)\n",
      "Y test shape: (10000,)\n"
     ]
    }
   ],
   "source": [
    "# LOAD DATA\n",
    "(x_train, y_train), (x_test, y_test) = fashion_mnist.load_data()\n",
    "print(\"X train shape:\", x_train.shape)\n",
    "print(\"Y train shape:\", y_train.shape)\n",
    "print(\"X test shape:\", x_test.shape)\n",
    "print(\"Y test shape:\", y_test.shape)\n",
    "\n",
    "# Reshape the data (num_sample, image_width, image_height, channel)\n",
    "# This format is what CNN layer expects the input to be in.\n",
    "num_train_sample = x_train.shape[0]\n",
    "num_test_sample = x_test.shape[0]\n",
    "image_width = x_train.shape[1]\n",
    "image_height = x_train.shape[2]\n",
    "channel = 1\n",
    "num_class = 10\n",
    "\n",
    "x_train = x_train.reshape(num_train_sample, image_width, image_height, channel)\n",
    "x_test = x_test.reshape(num_test_sample, image_width, image_height, channel)\n",
    "\n",
    "# One hot encoding\n",
    "y_train = keras.utils.to_categorical(y_train, num_class)\n",
    "y_test = keras.utils.to_categorical(y_test, num_class)"
   ]
  },
  {
   "cell_type": "code",
   "execution_count": 14,
   "metadata": {},
   "outputs": [
    {
     "name": "stdout",
     "output_type": "stream",
     "text": [
      "X train shape: (60000, 28, 28, 1)\n",
      "Y train shape: (60000, 10)\n",
      "X test shape: (10000, 28, 28, 1)\n",
      "Y test shape: (10000, 10)\n"
     ]
    }
   ],
   "source": [
    "# Shape after one hot encoding\n",
    "print(\"X train shape:\", x_train.shape)\n",
    "print(\"Y train shape:\", y_train.shape)\n",
    "print(\"X test shape:\", x_test.shape)\n",
    "print(\"Y test shape:\", y_test.shape)"
   ]
  },
  {
   "cell_type": "code",
   "execution_count": 15,
   "metadata": {},
   "outputs": [
    {
     "name": "stdout",
     "output_type": "stream",
     "text": [
      "[0. 0. 0. 1. 0. 0. 0. 0. 0. 0.]\n"
     ]
    },
    {
     "data": {
      "image/png": "[encoded data removed]",
      "text/plain": [
       "<Figure size 360x360 with 1 Axes>"
      ]
     },
     "metadata": {
      "needs_background": "light"
     },
     "output_type": "display_data"
    }
   ],
   "source": [
    "# DATA EXPLORATION\n",
    "# Load a random image\n",
    "index = random.randint(0, num_train_sample)\n",
    "image = x_train[index]\n",
    "image = image.reshape((image_width, image_height))\n",
    "\n",
    "# Visualize the image\n",
    "plt.figure(figsize = (5, 5))\n",
    "plt.imshow(image, cmap=\"gray\")\n",
    "print(y_train[index])"
   ]
  },
  {
   "cell_type": "code",
   "execution_count": 16,
   "metadata": {},
   "outputs": [],
   "source": [
    "# CREATE MODEL\n",
    "from keras.models import Model\n",
    "from keras.layers.convolutional import Conv2D\n",
    "\n",
    "# Conv2D Block: returns tensor output\n",
    "def Conv2DBlock(layer_input, num_filters, kernel_size):\n",
    "    layer = Conv2D(filters=num_filters,\n",
    "                   kernel_size=(kernel_size, kernel_size),\n",
    "                   kernel_initializer=\"he_normal\", padding=\"same\")(layer_input)\n",
    "    layer = Activation(\"relu\")(layer)\n",
    "    return layer\n",
    "\n",
    "# Network Function: returns model[input, output]\n",
    "def Network(network_input, num_filters):\n",
    "    c1 = Conv2DBlock(network_input, num_filters=num_filters, kernel_size=3)\n",
    "    c2 = Conv2DBlock(c1, num_filters=num_filters * 2, kernel_size=3)\n",
    "    # Fully Connected Layer: output = (num_sample, 10)\n",
    "    f = Flatten()(c2)\n",
    "    d = Dense(num_class)(f)\n",
    "    model = Model(inputs=[network_input], outputs=[d])\n",
    "    return model"
   ]
  },
  {
   "cell_type": "code",
   "execution_count": 17,
   "metadata": {},
   "outputs": [],
   "source": [
    "input_img = Input((28, 28, 1), name='img')\n",
    "model = Network(input_img, num_filters=32)"
   ]
  },
  {
   "cell_type": "code",
   "execution_count": 18,
   "metadata": {},
   "outputs": [
    {
     "name": "stdout",
     "output_type": "stream",
     "text": [
      "_________________________________________________________________\n",
      "Layer (type)                 Output Shape              Param #   \n",
      "=================================================================\n",
      "img (InputLayer)             (None, 28, 28, 1)         0         \n",
      "_________________________________________________________________\n",
      "conv2d_3 (Conv2D)            (None, 28, 28, 32)        320       \n",
      "_________________________________________________________________\n",
      "activation_3 (Activation)    (None, 28, 28, 32)        0         \n",
      "_________________________________________________________________\n",
      "conv2d_4 (Conv2D)            (None, 28, 28, 64)        18496     \n",
      "_________________________________________________________________\n",
      "activation_4 (Activation)    (None, 28, 28, 64)        0         \n",
      "_________________________________________________________________\n",
      "flatten_2 (Flatten)          (None, 50176)             0         \n",
      "_________________________________________________________________\n",
      "dense_2 (Dense)              (None, 10)                501770    \n",
      "=================================================================\n",
      "Total params: 520,586\n",
      "Trainable params: 520,586\n",
      "Non-trainable params: 0\n",
      "_________________________________________________________________\n"
     ]
    }
   ],
   "source": [
    "model.summary()"
   ]
  },
  {
   "cell_type": "code",
   "execution_count": 19,
   "metadata": {},
   "outputs": [
    {
     "data": {
      "image/svg+xml": [
       "<svg height=\"483pt\" viewBox=\"0.00 0.00 156.00 483.00\" width=\"156pt\" xmlns=\"http://www.w3.org/2000/svg\" xmlns:xlink=\"http://www.w3.org/1999/xlink\">\n",
       "<g class=\"graph\" id=\"graph0\" transform=\"scale(1 1) rotate(0) translate(4 479)\">\n",
       "<title>G</title>\n",
       "<polygon fill=\"white\" points=\"-4,4 -4,-479 152,-479 152,4 -4,4\" stroke=\"none\"/>\n",
       "<!-- 139862991821456 -->\n",
       "<g class=\"node\" id=\"node1\"><title>139862991821456</title>\n",
       "<polygon fill=\"none\" points=\"21,-438.5 21,-474.5 127,-474.5 127,-438.5 21,-438.5\" stroke=\"black\"/>\n",
       "<text font-family=\"Times,serif\" font-size=\"14.00\" text-anchor=\"middle\" x=\"74\" y=\"-452.8\">img: InputLayer</text>\n",
       "</g>\n",
       "<!-- 139863603158320 -->\n",
       "<g class=\"node\" id=\"node2\"><title>139863603158320</title>\n",
       "<polygon fill=\"none\" points=\"12.5,-365.5 12.5,-401.5 135.5,-401.5 135.5,-365.5 12.5,-365.5\" stroke=\"black\"/>\n",
       "<text font-family=\"Times,serif\" font-size=\"14.00\" text-anchor=\"middle\" x=\"74\" y=\"-379.8\">conv2d_3: Conv2D</text>\n",
       "</g>\n",
       "<!-- 139862991821456&#45;&gt;139863603158320 -->\n",
       "<g class=\"edge\" id=\"edge1\"><title>139862991821456-&gt;139863603158320</title>\n",
       "<path d=\"M74,-438.313C74,-430.289 74,-420.547 74,-411.569\" fill=\"none\" stroke=\"black\"/>\n",
       "<polygon fill=\"black\" points=\"77.5001,-411.529 74,-401.529 70.5001,-411.529 77.5001,-411.529\" stroke=\"black\"/>\n",
       "</g>\n",
       "<!-- 139862991820896 -->\n",
       "<g class=\"node\" id=\"node3\"><title>139862991820896</title>\n",
       "<polygon fill=\"none\" points=\"0,-292.5 0,-328.5 148,-328.5 148,-292.5 0,-292.5\" stroke=\"black\"/>\n",
       "<text font-family=\"Times,serif\" font-size=\"14.00\" text-anchor=\"middle\" x=\"74\" y=\"-306.8\">activation_3: Activation</text>\n",
       "</g>\n",
       "<!-- 139863603158320&#45;&gt;139862991820896 -->\n",
       "<g class=\"edge\" id=\"edge2\"><title>139863603158320-&gt;139862991820896</title>\n",
       "<path d=\"M74,-365.313C74,-357.289 74,-347.547 74,-338.569\" fill=\"none\" stroke=\"black\"/>\n",
       "<polygon fill=\"black\" points=\"77.5001,-338.529 74,-328.529 70.5001,-338.529 77.5001,-338.529\" stroke=\"black\"/>\n",
       "</g>\n",
       "<!-- 139862991819608 -->\n",
       "<g class=\"node\" id=\"node4\"><title>139862991819608</title>\n",
       "<polygon fill=\"none\" points=\"12.5,-219.5 12.5,-255.5 135.5,-255.5 135.5,-219.5 12.5,-219.5\" stroke=\"black\"/>\n",
       "<text font-family=\"Times,serif\" font-size=\"14.00\" text-anchor=\"middle\" x=\"74\" y=\"-233.8\">conv2d_4: Conv2D</text>\n",
       "</g>\n",
       "<!-- 139862991820896&#45;&gt;139862991819608 -->\n",
       "<g class=\"edge\" id=\"edge3\"><title>139862991820896-&gt;139862991819608</title>\n",
       "<path d=\"M74,-292.313C74,-284.289 74,-274.547 74,-265.569\" fill=\"none\" stroke=\"black\"/>\n",
       "<polygon fill=\"black\" points=\"77.5001,-265.529 74,-255.529 70.5001,-265.529 77.5001,-265.529\" stroke=\"black\"/>\n",
       "</g>\n",
       "<!-- 139862991820280 -->\n",
       "<g class=\"node\" id=\"node5\"><title>139862991820280</title>\n",
       "<polygon fill=\"none\" points=\"0,-146.5 0,-182.5 148,-182.5 148,-146.5 0,-146.5\" stroke=\"black\"/>\n",
       "<text font-family=\"Times,serif\" font-size=\"14.00\" text-anchor=\"middle\" x=\"74\" y=\"-160.8\">activation_4: Activation</text>\n",
       "</g>\n",
       "<!-- 139862991819608&#45;&gt;139862991820280 -->\n",
       "<g class=\"edge\" id=\"edge4\"><title>139862991819608-&gt;139862991820280</title>\n",
       "<path d=\"M74,-219.313C74,-211.289 74,-201.547 74,-192.569\" fill=\"none\" stroke=\"black\"/>\n",
       "<polygon fill=\"black\" points=\"77.5001,-192.529 74,-182.529 70.5001,-192.529 77.5001,-192.529\" stroke=\"black\"/>\n",
       "</g>\n",
       "<!-- 139862991887384 -->\n",
       "<g class=\"node\" id=\"node6\"><title>139862991887384</title>\n",
       "<polygon fill=\"none\" points=\"19,-73.5 19,-109.5 129,-109.5 129,-73.5 19,-73.5\" stroke=\"black\"/>\n",
       "<text font-family=\"Times,serif\" font-size=\"14.00\" text-anchor=\"middle\" x=\"74\" y=\"-87.8\">flatten_2: Flatten</text>\n",
       "</g>\n",
       "<!-- 139862991820280&#45;&gt;139862991887384 -->\n",
       "<g class=\"edge\" id=\"edge5\"><title>139862991820280-&gt;139862991887384</title>\n",
       "<path d=\"M74,-146.313C74,-138.289 74,-128.547 74,-119.569\" fill=\"none\" stroke=\"black\"/>\n",
       "<polygon fill=\"black\" points=\"77.5001,-119.529 74,-109.529 70.5001,-119.529 77.5001,-119.529\" stroke=\"black\"/>\n",
       "</g>\n",
       "<!-- 139862991886432 -->\n",
       "<g class=\"node\" id=\"node7\"><title>139862991886432</title>\n",
       "<polygon fill=\"none\" points=\"23,-0.5 23,-36.5 125,-36.5 125,-0.5 23,-0.5\" stroke=\"black\"/>\n",
       "<text font-family=\"Times,serif\" font-size=\"14.00\" text-anchor=\"middle\" x=\"74\" y=\"-14.8\">dense_2: Dense</text>\n",
       "</g>\n",
       "<!-- 139862991887384&#45;&gt;139862991886432 -->\n",
       "<g class=\"edge\" id=\"edge6\"><title>139862991887384-&gt;139862991886432</title>\n",
       "<path d=\"M74,-73.3129C74,-65.2895 74,-55.5475 74,-46.5691\" fill=\"none\" stroke=\"black\"/>\n",
       "<polygon fill=\"black\" points=\"77.5001,-46.5288 74,-36.5288 70.5001,-46.5289 77.5001,-46.5288\" stroke=\"black\"/>\n",
       "</g>\n",
       "</g>\n",
       "</svg>"
      ],
      "text/plain": [
       "<IPython.core.display.SVG object>"
      ]
     },
     "execution_count": 19,
     "metadata": {},
     "output_type": "execute_result"
    }
   ],
   "source": [
    "# Visualize network\n",
    "plot_model(model, to_file='model.png')\n",
    "SVG(model_to_dot(model).create(prog='dot', format='svg'))"
   ]
  },
  {
   "cell_type": "code",
   "execution_count": 20,
   "metadata": {},
   "outputs": [
    {
     "name": "stdout",
     "output_type": "stream",
     "text": [
      "X train shape: (60000, 28, 28, 1)\n",
      "Y train shape: (60000, 10)\n"
     ]
    }
   ],
   "source": [
    "# Setup model (specify optimizer, loss function and metrics)\n",
    "model.compile(optimizer = Adam(), loss = 'mean_squared_error', metrics = [\"accuracy\", \"binary_accuracy\", \"mse\"])\n",
    "\n",
    "print(\"X train shape:\", x_train.shape)\n",
    "print(\"Y train shape:\", y_train.shape)"
   ]
  },
  {
   "cell_type": "code",
   "execution_count": null,
   "metadata": {},
   "outputs": [
    {
     "name": "stdout",
     "output_type": "stream",
     "text": [
      "Epoch 1/10\n",
      "94s - loss: 0.0394 - acc: 0.7709 - binary_accuracy: 0.9531 - mean_squared_error: 0.0394\n",
      "Epoch 2/10\n",
      "97s - loss: 0.0381 - acc: 0.7770 - binary_accuracy: 0.9547 - mean_squared_error: 0.0381\n",
      "Epoch 3/10\n",
      "98s - loss: 0.0367 - acc: 0.7848 - binary_accuracy: 0.9563 - mean_squared_error: 0.0367\n",
      "Epoch 4/10\n",
      "98s - loss: 0.0348 - acc: 0.8000 - binary_accuracy: 0.9590 - mean_squared_error: 0.0348\n",
      "Epoch 5/10\n",
      "97s - loss: 0.0335 - acc: 0.8086 - binary_accuracy: 0.9609 - mean_squared_error: 0.0335\n",
      "Epoch 6/10\n",
      "98s - loss: 0.0324 - acc: 0.8159 - binary_accuracy: 0.9624 - mean_squared_error: 0.0324\n",
      "Epoch 7/10\n"
     ]
    }
   ],
   "source": [
    "results = model.fit(x_train, y_train, batch_size=16, epochs=10, verbose=2)"
   ]
  },
  {
   "cell_type": "code",
   "execution_count": null,
   "metadata": {},
   "outputs": [],
   "source": [
    "sample = x_train[0]\n",
    "sample = sample.reshape(1, 28, 28, 1)\n",
    "\n",
    "print(model.predict(sample))\n",
    "print(y_train[0])"
   ]
  },
  {
   "cell_type": "code",
   "execution_count": null,
   "metadata": {},
   "outputs": [],
   "source": [
    "model.save(\"03-16-2019-model.h5\")"
   ]
  },
  {
   "cell_type": "code",
   "execution_count": null,
   "metadata": {},
   "outputs": [],
   "source": []
  }
 ],
 "metadata": {
  "kernelspec": {
   "display_name": "Python 3",
   "language": "python",
   "name": "python3"
  },
  "language_info": {
   "codemirror_mode": {
    "name": "ipython",
    "version": 3
   },
   "file_extension": ".py",
   "mimetype": "text/x-python",
   "name": "python",
   "nbconvert_exporter": "python",
   "pygments_lexer": "ipython3",
   "version": "3.5.2"
  }
 },
 "nbformat": 4,
 "nbformat_minor": 2
}
